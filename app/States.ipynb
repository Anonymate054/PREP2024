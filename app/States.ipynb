{
 "cells": [
  {
   "cell_type": "markdown",
   "metadata": {},
   "source": [
    "https://devhints.io/xpath\n",
    "https://selenium-python.readthedocs.io/api.html\n"
   ]
  },
  {
   "cell_type": "code",
   "execution_count": 25,
   "metadata": {},
   "outputs": [],
   "source": [
    "import scrapper_utils as scrapper_utils\n",
    "import re\n",
    "# Path to Chromium bin\n",
    "# $x('//*[@id=\"select-distriro\"]').map(x=>x.textContent)\n",
    "\n",
    "chromium_path =  \"drivers/chrome-linux64/chrome\"\n",
    "service_path = \"drivers/chromedriver-linux64/chromedriver\"\n",
    "\n",
    "url = \"https://prep2024.ine.mx/publicacion/nacional/presidencia/nacional/entidad/{state}/candidatura\" # 1 to 32\n",
    "\n",
    "XPATH = {\n",
    "    'XPATH_STATES' : '//select[@id=\"select-entidad\"]',\n",
    "    'XPATH_DISTRICT' : '//select[@id=\"select-distriro\"]',\n",
    "    'XPATH_INFO' : '/html/body/app-root/app-federal/div/div/div[3]/app-entidad/div/div[1]/div[2]/app-partido-politico/div[2]/div/div[{candidate}]', # 1 to 5\n",
    "    'XPATH_PART' : '/html/body/app-root/app-federal/div/div/div[3]/app-entidad/div/app-porcentaje-participacion/div/div/div/div/div[2]/div[2]/p'\n",
    "}"
   ]
  },
  {
   "cell_type": "code",
   "execution_count": 4,
   "metadata": {},
   "outputs": [],
   "source": [
    "def parse_election_data(data: str) -> dict:\n",
    "    # Extract name using regular expression\n",
    "    name_match = re.search(r'([A-Za-zÁÉÍÓÚáéíóúÑñ\\s]+)Total de votos', data)\n",
    "    name = name_match.group(1).strip() if name_match else ''\n",
    "\n",
    "    # Extract total votes using regular expression\n",
    "    total_votes_match = re.search(r'Total de votos([0-9,]+)', data)\n",
    "    total_votes = int(total_votes_match.group(1).replace(',', '')) if total_votes_match else 0\n",
    "\n",
    "    # Extract percentage using regular expression\n",
    "    percent_match = re.search(r'Porcentaje([0-9.]+)\\s%', data)\n",
    "    percent = float(percent_match.group(1).replace(',', '.')) / 100 if percent_match else 0.0\n",
    "\n",
    "    # Extract votes in territory national using regular expression\n",
    "    national_votes_match = re.search(r'En Territorio Nacional([0-9,]+)', data)\n",
    "    national_votes = int(national_votes_match.group(1).replace(',', '')) if national_votes_match else 0\n",
    "\n",
    "    # Extract votes abroad using regular expression\n",
    "    abroad_votes_match = re.search(r'En el Extranjero([0-9,]+)', data)\n",
    "    abroad_votes = int(abroad_votes_match.group(1).replace(',', '')) if abroad_votes_match else 0\n",
    "\n",
    "    return {\n",
    "        'name': name,\n",
    "        'total_votes': total_votes,\n",
    "        'percent': percent,\n",
    "        'national_votes': national_votes,\n",
    "        'abroad_votes': abroad_votes\n",
    "    }"
   ]
  },
  {
   "cell_type": "code",
   "execution_count": 18,
   "metadata": {},
   "outputs": [],
   "source": [
    "import time\n",
    "import os \n",
    "import json\n",
    "from selenium import webdriver\n",
    "from selenium.webdriver.chrome.service import Service\n",
    "from selenium.webdriver.chrome.options import Options\n",
    "from selenium.webdriver.common.by import By\n",
    "from selenium.webdriver.support.ui import WebDriverWait       \n",
    "from selenium.webdriver.support import expected_conditions as EC\n",
    "from selenium.webdriver import ActionChains\n",
    "import lxml.html as html\n",
    "from selenium.webdriver.support.ui import Select\n",
    "\n",
    "\n",
    "def get_info(chromium_path, service_path, XPATH, url):\n",
    "    s = Service(service_path)\n",
    "    chrome_options = Options()\n",
    "    chrome_options.binary_location = chromium_path\n",
    "\n",
    "\n",
    "    with webdriver.Chrome(service=s, options=chrome_options) as driver:\n",
    "        driver.get(url)\n",
    "        driver.maximize_window()\n",
    "        wait = WebDriverWait(driver, 10)\n",
    "\n",
    "        dropdown = Select(driver.find_element(By.XPATH,XPATH['XPATH_STATES']))\n",
    "        states = [option.text for option in dropdown.options]\n",
    "\n",
    "        time.sleep(10)\n",
    "        json_parsed = {}\n",
    "        for num in range(1,6):\n",
    "            # print(driver.find_element(By.XPATH,XPATH['XPATH_INFO'].format(candidate = num)).get_attribute('textContent'))\n",
    "            json_parsed[num] = parse_election_data(driver.find_element(By.XPATH,XPATH['XPATH_INFO'].format(candidate = num)).get_attribute('textContent'))\n",
    "        print(json_parsed)\n",
    "    time.sleep(5)\n",
    "    # driver.close() # Revisar\n",
    "    return json_parsed"
   ]
  },
  {
   "cell_type": "code",
   "execution_count": 21,
   "metadata": {},
   "outputs": [],
   "source": [
    "def create_folder_if_not_exists(folder_name):\n",
    "    if not os.path.exists(folder_name):\n",
    "        os.makedirs(folder_name)\n",
    "        print(f\"The folder '{folder_name}' has been created.\")\n",
    "    else:\n",
    "        print(f\"The folder '{folder_name}' already exists.\")\n",
    "\n",
    "def create_json_file(json_data, file_name):\n",
    "    with open(f'{file_name}.json', 'w', encoding='utf-8') as json_file:\n",
    "        json.dump(json_data, json_file, indent=4, ensure_ascii=False)"
   ]
  },
  {
   "cell_type": "code",
   "execution_count": 24,
   "metadata": {},
   "outputs": [
    {
     "name": "stdout",
     "output_type": "stream",
     "text": [
      "The folder 'states' already exists.\n",
      "{1: {'name': 'Jorge Álvarez Máynez', 'total_votes': 56998, 'percent': 0.089398, 'national_votes': 56934, 'abroad_votes': 64}, 2: {'name': 'Bertha Xóchitl Gálvez Ruíz', 'total_votes': 294218, 'percent': 0.461466, 'national_votes': 293070, 'abroad_votes': 1148}, 3: {'name': 'Claudia Sheinbaum Pardo', 'total_votes': 270252, 'percent': 0.423876, 'national_votes': 269391, 'abroad_votes': 861}, 4: {'name': 'Candidaturas no registradas', 'total_votes': 1959, 'percent': 0.0030719999999999996, 'national_votes': 1953, 'abroad_votes': 6}, 5: {'name': 'Votos nulos', 'total_votes': 14145, 'percent': 0.022185, 'national_votes': 14128, 'abroad_votes': 17}}\n",
      "{1: {'name': 'Jorge Álvarez Máynez', 'total_votes': 132459, 'percent': 0.10122, 'national_votes': 132356, 'abroad_votes': 103}, 2: {'name': 'Bertha Xóchitl Gálvez Ruíz', 'total_votes': 290133, 'percent': 0.221708, 'national_votes': 288804, 'abroad_votes': 1329}, 3: {'name': 'Claudia Sheinbaum Pardo', 'total_votes': 855022, 'percent': 0.653375, 'national_votes': 853216, 'abroad_votes': 1806}, 4: {'name': 'Candidaturas no registradas', 'total_votes': 2961, 'percent': 0.002262, 'national_votes': 2951, 'abroad_votes': 10}, 5: {'name': 'Votos nulos', 'total_votes': 29268, 'percent': 0.022365, 'national_votes': 29251, 'abroad_votes': 17}}\n",
      "{1: {'name': 'Jorge Álvarez Máynez', 'total_votes': 26476, 'percent': 0.089288, 'national_votes': 26470, 'abroad_votes': 6}, 2: {'name': 'Bertha Xóchitl Gálvez Ruíz', 'total_votes': 88986, 'percent': 0.30010000000000003, 'national_votes': 88787, 'abroad_votes': 199}, 3: {'name': 'Claudia Sheinbaum Pardo', 'total_votes': 174176, 'percent': 0.587398, 'national_votes': 174012, 'abroad_votes': 164}, 4: {'name': 'Candidaturas no registradas', 'total_votes': 463, 'percent': 0.0015609999999999999, 'national_votes': 459, 'abroad_votes': 4}, 5: {'name': 'Votos nulos', 'total_votes': 6420, 'percent': 0.021650999999999997, 'national_votes': 6415, 'abroad_votes': 5}}\n",
      "{1: {'name': 'Jorge Álvarez Máynez', 'total_votes': 82509, 'percent': 0.210729, 'national_votes': 82496, 'abroad_votes': 13}, 2: {'name': 'Bertha Xóchitl Gálvez Ruíz', 'total_votes': 62003, 'percent': 0.158356, 'national_votes': 61844, 'abroad_votes': 159}, 3: {'name': 'Claudia Sheinbaum Pardo', 'total_votes': 238025, 'percent': 0.60792, 'national_votes': 237851, 'abroad_votes': 174}, 4: {'name': 'Candidaturas no registradas', 'total_votes': 446, 'percent': 0.001139, 'national_votes': 446, 'abroad_votes': 0}, 5: {'name': 'Votos nulos', 'total_votes': 8557, 'percent': 0.021854, 'national_votes': 8555, 'abroad_votes': 2}}\n",
      "{1: {'name': 'Jorge Álvarez Máynez', 'total_votes': 83499, 'percent': 0.055059, 'national_votes': 83430, 'abroad_votes': 69}, 2: {'name': 'Bertha Xóchitl Gálvez Ruíz', 'total_votes': 592031, 'percent': 0.390385, 'national_votes': 590176, 'abroad_votes': 1855}, 3: {'name': 'Claudia Sheinbaum Pardo', 'total_votes': 808040, 'percent': 0.532821, 'national_votes': 806670, 'abroad_votes': 1370}, 4: {'name': 'Candidaturas no registradas', 'total_votes': 1570, 'percent': 0.001035, 'national_votes': 1557, 'abroad_votes': 13}, 5: {'name': 'Votos nulos', 'total_votes': 32546, 'percent': 0.02146, 'national_votes': 32533, 'abroad_votes': 13}}\n",
      "{1: {'name': 'Jorge Álvarez Máynez', 'total_votes': 45454, 'percent': 0.134213, 'national_votes': 45427, 'abroad_votes': 27}, 2: {'name': 'Bertha Xóchitl Gálvez Ruíz', 'total_votes': 102695, 'percent': 0.30323100000000003, 'national_votes': 102299, 'abroad_votes': 396}, 3: {'name': 'Claudia Sheinbaum Pardo', 'total_votes': 182722, 'percent': 0.539529, 'national_votes': 182089, 'abroad_votes': 633}, 4: {'name': 'Candidaturas no registradas', 'total_votes': 685, 'percent': 0.002022, 'national_votes': 682, 'abroad_votes': 3}, 5: {'name': 'Votos nulos', 'total_votes': 7113, 'percent': 0.021002, 'national_votes': 7098, 'abroad_votes': 15}}\n",
      "{1: {'name': 'Jorge Álvarez Máynez', 'total_votes': 160348, 'percent': 0.075736, 'national_votes': 160298, 'abroad_votes': 50}, 2: {'name': 'Bertha Xóchitl Gálvez Ruíz', 'total_votes': 353198, 'percent': 0.166824, 'national_votes': 352755, 'abroad_votes': 443}, 3: {'name': 'Claudia Sheinbaum Pardo', 'total_votes': 1508000, 'percent': 0.712269, 'national_votes': 1506931, 'abroad_votes': 1069}, 4: {'name': 'Candidaturas no registradas', 'total_votes': 2888, 'percent': 0.001364, 'national_votes': 2887, 'abroad_votes': 1}, 5: {'name': 'Votos nulos', 'total_votes': 92743, 'percent': 0.043805, 'national_votes': 92731, 'abroad_votes': 12}}\n",
      "{1: {'name': 'Jorge Álvarez Máynez', 'total_votes': 134575, 'percent': 0.09614800000000001, 'national_votes': 134432, 'abroad_votes': 143}, 2: {'name': 'Bertha Xóchitl Gálvez Ruíz', 'total_votes': 495060, 'percent': 0.35370199999999996, 'national_votes': 492419, 'abroad_votes': 2641}, 3: {'name': 'Claudia Sheinbaum Pardo', 'total_votes': 736541, 'percent': 0.526231, 'national_votes': 734120, 'abroad_votes': 2421}, 4: {'name': 'Candidaturas no registradas', 'total_votes': 2065, 'percent': 0.001475, 'national_votes': 2041, 'abroad_votes': 24}, 5: {'name': 'Votos nulos', 'total_votes': 35015, 'percent': 0.025015999999999997, 'national_votes': 34984, 'abroad_votes': 31}}\n",
      "{1: {'name': 'Jorge Álvarez Máynez', 'total_votes': 453935, 'percent': 0.084141, 'national_votes': 453008, 'abroad_votes': 927}, 2: {'name': 'Bertha Xóchitl Gálvez Ruíz', 'total_votes': 1887340, 'percent': 0.349837, 'national_votes': 1857603, 'abroad_votes': 29737}, 3: {'name': 'Claudia Sheinbaum Pardo', 'total_votes': 2986741, 'percent': 0.553621, 'national_votes': 2972163, 'abroad_votes': 14578}, 4: {'name': 'Candidaturas no registradas', 'total_votes': 9845, 'percent': 0.001824, 'national_votes': 9671, 'abroad_votes': 174}, 5: {'name': 'Votos nulos', 'total_votes': 99584, 'percent': 0.018458000000000002, 'national_votes': 99227, 'abroad_votes': 357}}\n",
      "{1: {'name': 'Jorge Álvarez Máynez', 'total_votes': 51470, 'percent': 0.074036, 'national_votes': 51417, 'abroad_votes': 53}, 2: {'name': 'Bertha Xóchitl Gálvez Ruíz', 'total_votes': 226858, 'percent': 0.326319, 'national_votes': 226166, 'abroad_votes': 692}, 3: {'name': 'Claudia Sheinbaum Pardo', 'total_votes': 402186, 'percent': 0.578516, 'national_votes': 400528, 'abroad_votes': 1658}, 4: {'name': 'Candidaturas no registradas', 'total_votes': 740, 'percent': 0.0010639999999999998, 'national_votes': 733, 'abroad_votes': 7}, 5: {'name': 'Votos nulos', 'total_votes': 15050, 'percent': 0.021648, 'national_votes': 15039, 'abroad_votes': 11}}\n",
      "{1: {'name': 'Jorge Álvarez Máynez', 'total_votes': 277360, 'percent': 0.106216, 'national_votes': 277160, 'abroad_votes': 200}, 2: {'name': 'Bertha Xóchitl Gálvez Ruíz', 'total_votes': 1056747, 'percent': 0.404688, 'national_votes': 1053335, 'abroad_votes': 3412}, 3: {'name': 'Claudia Sheinbaum Pardo', 'total_votes': 1224110, 'percent': 0.46878100000000006, 'national_votes': 1218595, 'abroad_votes': 5515}, 4: {'name': 'Candidaturas no registradas', 'total_votes': 4472, 'percent': 0.001712, 'national_votes': 4438, 'abroad_votes': 34}, 5: {'name': 'Votos nulos', 'total_votes': 56387, 'percent': 0.021593, 'national_votes': 56334, 'abroad_votes': 53}}\n",
      "{1: {'name': 'Jorge Álvarez Máynez', 'total_votes': 95513, 'percent': 0.065622, 'national_votes': 95459, 'abroad_votes': 54}, 2: {'name': 'Bertha Xóchitl Gálvez Ruíz', 'total_votes': 276794, 'percent': 0.19017099999999998, 'national_votes': 276169, 'abroad_votes': 625}, 3: {'name': 'Claudia Sheinbaum Pardo', 'total_votes': 1040631, 'percent': 0.714965, 'national_votes': 1035696, 'abroad_votes': 4935}, 4: {'name': 'Candidaturas no registradas', 'total_votes': 1577, 'percent': 0.001083, 'national_votes': 1560, 'abroad_votes': 17}, 5: {'name': 'Votos nulos', 'total_votes': 45592, 'percent': 0.031323, 'national_votes': 45579, 'abroad_votes': 13}}\n",
      "{1: {'name': 'Jorge Álvarez Máynez', 'total_votes': 155820, 'percent': 0.10460599999999999, 'national_votes': 155757, 'abroad_votes': 63}, 2: {'name': 'Bertha Xóchitl Gálvez Ruíz', 'total_votes': 297566, 'percent': 0.19976400000000002, 'national_votes': 296832, 'abroad_votes': 734}, 3: {'name': 'Claudia Sheinbaum Pardo', 'total_votes': 1000990, 'percent': 0.671994, 'national_votes': 998331, 'abroad_votes': 2659}, 4: {'name': 'Candidaturas no registradas', 'total_votes': 1800, 'percent': 0.001208, 'national_votes': 1788, 'abroad_votes': 12}, 5: {'name': 'Votos nulos', 'total_votes': 35408, 'percent': 0.02377, 'national_votes': 35395, 'abroad_votes': 13}}\n",
      "{1: {'name': 'Jorge Álvarez Máynez', 'total_votes': 629966, 'percent': 0.17465599999999998, 'national_votes': 629427, 'abroad_votes': 539}, 2: {'name': 'Bertha Xóchitl Gálvez Ruíz', 'total_votes': 1305325, 'percent': 0.361898, 'national_votes': 1297513, 'abroad_votes': 7812}, 3: {'name': 'Claudia Sheinbaum Pardo', 'total_votes': 1595010, 'percent': 0.44221200000000005, 'national_votes': 1586787, 'abroad_votes': 8223}, 4: {'name': 'Candidaturas no registradas', 'total_votes': 7862, 'percent': 0.002179, 'national_votes': 7764, 'abroad_votes': 98}, 5: {'name': 'Votos nulos', 'total_votes': 83154, 'percent': 0.023054, 'national_votes': 83045, 'abroad_votes': 109}}\n",
      "{1: {'name': 'Jorge Álvarez Máynez', 'total_votes': 874799, 'percent': 0.107504, 'national_votes': 874420, 'abroad_votes': 379}, 2: {'name': 'Bertha Xóchitl Gálvez Ruíz', 'total_votes': 2177582, 'percent': 0.26760300000000004, 'national_votes': 2169683, 'abroad_votes': 7899}, 3: {'name': 'Claudia Sheinbaum Pardo', 'total_votes': 4910698, 'percent': 0.603477, 'national_votes': 4904901, 'abroad_votes': 5797}, 4: {'name': 'Candidaturas no registradas', 'total_votes': 11215, 'percent': 0.001378, 'national_votes': 11172, 'abroad_votes': 43}, 5: {'name': 'Votos nulos', 'total_votes': 174272, 'percent': 0.021416, 'national_votes': 174186, 'abroad_votes': 86}}\n",
      "{1: {'name': 'Jorge Álvarez Máynez', 'total_votes': 230336, 'percent': 0.122063, 'national_votes': 230157, 'abroad_votes': 179}, 2: {'name': 'Bertha Xóchitl Gálvez Ruíz', 'total_votes': 560620, 'percent': 0.297093, 'national_votes': 558615, 'abroad_votes': 2005}, 3: {'name': 'Claudia Sheinbaum Pardo', 'total_votes': 1036243, 'percent': 0.549144, 'national_votes': 1029239, 'abroad_votes': 7004}, 4: {'name': 'Candidaturas no registradas', 'total_votes': 3916, 'percent': 0.002075, 'national_votes': 3869, 'abroad_votes': 47}, 5: {'name': 'Votos nulos', 'total_votes': 63653, 'percent': 0.033732000000000005, 'national_votes': 63600, 'abroad_votes': 53}}\n",
      "{1: {'name': 'Jorge Álvarez Máynez', 'total_votes': 117500, 'percent': 0.128928, 'national_votes': 117418, 'abroad_votes': 82}, 2: {'name': 'Bertha Xóchitl Gálvez Ruíz', 'total_votes': 196657, 'percent': 0.21578499999999998, 'national_votes': 195416, 'abroad_votes': 1241}, 3: {'name': 'Claudia Sheinbaum Pardo', 'total_votes': 578965, 'percent': 0.635279, 'national_votes': 577037, 'abroad_votes': 1928}, 4: {'name': 'Candidaturas no registradas', 'total_votes': 1060, 'percent': 0.001163, 'national_votes': 1049, 'abroad_votes': 11}, 5: {'name': 'Votos nulos', 'total_votes': 18570, 'percent': 0.020376, 'national_votes': 18550, 'abroad_votes': 20}}\n",
      "{1: {'name': 'Jorge Álvarez Máynez', 'total_votes': 67640, 'percent': 0.139692, 'national_votes': 67599, 'abroad_votes': 41}, 2: {'name': 'Bertha Xóchitl Gálvez Ruíz', 'total_votes': 100843, 'percent': 0.208264, 'national_votes': 100509, 'abroad_votes': 334}, 3: {'name': 'Claudia Sheinbaum Pardo', 'total_votes': 302532, 'percent': 0.624798, 'national_votes': 301358, 'abroad_votes': 1174}, 4: {'name': 'Candidaturas no registradas', 'total_votes': 606, 'percent': 0.001251, 'national_votes': 601, 'abroad_votes': 5}, 5: {'name': 'Votos nulos', 'total_votes': 12586, 'percent': 0.025993, 'national_votes': 12581, 'abroad_votes': 5}}\n",
      "{1: {'name': 'Jorge Álvarez Máynez', 'total_votes': 431178, 'percent': 0.181643, 'national_votes': 430840, 'abroad_votes': 338}, 2: {'name': 'Bertha Xóchitl Gálvez Ruíz', 'total_votes': 841844, 'percent': 0.35464599999999996, 'national_votes': 835573, 'abroad_votes': 6271}, 3: {'name': 'Claudia Sheinbaum Pardo', 'total_votes': 1056501, 'percent': 0.445075, 'national_votes': 1054710, 'abroad_votes': 1791}, 4: {'name': 'Candidaturas no registradas', 'total_votes': 3715, 'percent': 0.001565, 'national_votes': 3689, 'abroad_votes': 26}, 5: {'name': 'Votos nulos', 'total_votes': 46578, 'percent': 0.019622, 'national_votes': 46522, 'abroad_votes': 56}}\n",
      "{1: {'name': 'Jorge Álvarez Máynez', 'total_votes': 119134, 'percent': 0.066363, 'national_votes': 119078, 'abroad_votes': 56}, 2: {'name': 'Bertha Xóchitl Gálvez Ruíz', 'total_votes': 261516, 'percent': 0.145677, 'national_votes': 260965, 'abroad_votes': 551}, 3: {'name': 'Claudia Sheinbaum Pardo', 'total_votes': 1370423, 'percent': 0.763395, 'national_votes': 1365419, 'abroad_votes': 5004}, 4: {'name': 'Candidaturas no registradas', 'total_votes': 1871, 'percent': 0.001042, 'national_votes': 1854, 'abroad_votes': 17}, 5: {'name': 'Votos nulos', 'total_votes': 46853, 'percent': 0.026099, 'national_votes': 46837, 'abroad_votes': 16}}\n",
      "{1: {'name': 'Jorge Álvarez Máynez', 'total_votes': 322346, 'percent': 0.10157, 'national_votes': 322147, 'abroad_votes': 199}, 2: {'name': 'Bertha Xóchitl Gálvez Ruíz', 'total_votes': 696244, 'percent': 0.21938400000000002, 'national_votes': 693004, 'abroad_votes': 3240}, 3: {'name': 'Claudia Sheinbaum Pardo', 'total_votes': 2067541, 'percent': 0.6514759999999999, 'national_votes': 2061094, 'abroad_votes': 6447}, 4: {'name': 'Candidaturas no registradas', 'total_votes': 4149, 'percent': 0.001307, 'national_votes': 4116, 'abroad_votes': 33}, 5: {'name': 'Votos nulos', 'total_votes': 91739, 'percent': 0.028906, 'national_votes': 91686, 'abroad_votes': 53}}\n",
      "{1: {'name': 'Jorge Álvarez Máynez', 'total_votes': 109579, 'percent': 0.09577999999999999, 'national_votes': 109469, 'abroad_votes': 110}, 2: {'name': 'Bertha Xóchitl Gálvez Ruíz', 'total_votes': 427514, 'percent': 0.373681, 'national_votes': 424487, 'abroad_votes': 3027}, 3: {'name': 'Claudia Sheinbaum Pardo', 'total_votes': 580295, 'percent': 0.507224, 'national_votes': 579026, 'abroad_votes': 1269}, 4: {'name': 'Candidaturas no registradas', 'total_votes': 2719, 'percent': 0.002376, 'national_votes': 2708, 'abroad_votes': 11}, 5: {'name': 'Votos nulos', 'total_votes': 26394, 'percent': 0.02307, 'national_votes': 26364, 'abroad_votes': 30}}\n",
      "{1: {'name': 'Jorge Álvarez Máynez', 'total_votes': 57350, 'percent': 0.07773100000000001, 'national_votes': 57299, 'abroad_votes': 51}, 2: {'name': 'Bertha Xóchitl Gálvez Ruíz', 'total_votes': 129121, 'percent': 0.17500800000000002, 'national_votes': 128073, 'abroad_votes': 1048}, 3: {'name': 'Claudia Sheinbaum Pardo', 'total_votes': 533958, 'percent': 0.723717, 'national_votes': 533396, 'abroad_votes': 562}, 4: {'name': 'Candidaturas no registradas', 'total_votes': 1184, 'percent': 0.001604, 'national_votes': 1180, 'abroad_votes': 4}, 5: {'name': 'Votos nulos', 'total_votes': 16186, 'percent': 0.021938, 'national_votes': 16173, 'abroad_votes': 13}}\n",
      "{1: {'name': 'Jorge Álvarez Máynez', 'total_votes': 138433, 'percent': 0.107906, 'national_votes': 138336, 'abroad_votes': 97}, 2: {'name': 'Bertha Xóchitl Gálvez Ruíz', 'total_votes': 330360, 'percent': 0.257511, 'national_votes': 328845, 'abroad_votes': 1515}, 3: {'name': 'Claudia Sheinbaum Pardo', 'total_votes': 773298, 'percent': 0.6027750000000001, 'national_votes': 771339, 'abroad_votes': 1959}, 4: {'name': 'Candidaturas no registradas', 'total_votes': 2012, 'percent': 0.001568, 'national_votes': 2000, 'abroad_votes': 12}, 5: {'name': 'Votos nulos', 'total_votes': 41219, 'percent': 0.032129, 'national_votes': 41182, 'abroad_votes': 37}}\n",
      "{1: {'name': 'Jorge Álvarez Máynez', 'total_votes': 95400, 'percent': 0.079445, 'national_votes': 95345, 'abroad_votes': 55}, 2: {'name': 'Bertha Xóchitl Gálvez Ruíz', 'total_votes': 300151, 'percent': 0.249955, 'national_votes': 299072, 'abroad_votes': 1079}, 3: {'name': 'Claudia Sheinbaum Pardo', 'total_votes': 777915, 'percent': 0.647821, 'national_votes': 776524, 'abroad_votes': 1391}, 4: {'name': 'Candidaturas no registradas', 'total_votes': 1609, 'percent': 0.001339, 'national_votes': 1601, 'abroad_votes': 8}, 5: {'name': 'Votos nulos', 'total_votes': 25741, 'percent': 0.021436, 'national_votes': 25732, 'abroad_votes': 9}}\n",
      "{1: {'name': 'Jorge Álvarez Máynez', 'total_votes': 98260, 'percent': 0.092792, 'national_votes': 98184, 'abroad_votes': 76}, 2: {'name': 'Bertha Xóchitl Gálvez Ruíz', 'total_votes': 268965, 'percent': 0.253999, 'national_votes': 267812, 'abroad_votes': 1153}, 3: {'name': 'Claudia Sheinbaum Pardo', 'total_votes': 667316, 'percent': 0.630186, 'national_votes': 666207, 'abroad_votes': 1109}, 4: {'name': 'Candidaturas no registradas', 'total_votes': 1524, 'percent': 0.001439, 'national_votes': 1516, 'abroad_votes': 8}, 5: {'name': 'Votos nulos', 'total_votes': 22854, 'percent': 0.021582, 'national_votes': 22842, 'abroad_votes': 12}}\n",
      "{1: {'name': 'Jorge Álvarez Máynez', 'total_votes': 61062, 'percent': 0.06093899999999999, 'national_votes': 61031, 'abroad_votes': 31}, 2: {'name': 'Bertha Xóchitl Gálvez Ruíz', 'total_votes': 113526, 'percent': 0.113299, 'national_votes': 113232, 'abroad_votes': 294}, 3: {'name': 'Claudia Sheinbaum Pardo', 'total_votes': 802827, 'percent': 0.8012220000000001, 'national_votes': 802219, 'abroad_votes': 608}, 4: {'name': 'Candidaturas no registradas', 'total_votes': 1128, 'percent': 0.0011250000000000001, 'national_votes': 1126, 'abroad_votes': 2}, 5: {'name': 'Votos nulos', 'total_votes': 23460, 'percent': 0.023413, 'national_votes': 23455, 'abroad_votes': 5}}\n",
      "{1: {'name': 'Jorge Álvarez Máynez', 'total_votes': 138101, 'percent': 0.094459, 'national_votes': 138002, 'abroad_votes': 99}, 2: {'name': 'Bertha Xóchitl Gálvez Ruíz', 'total_votes': 387878, 'percent': 0.265303, 'national_votes': 386234, 'abroad_votes': 1644}, 3: {'name': 'Claudia Sheinbaum Pardo', 'total_votes': 905685, 'percent': 0.6194769999999999, 'national_votes': 903934, 'abroad_votes': 1751}, 4: {'name': 'Candidaturas no registradas', 'total_votes': 1794, 'percent': 0.001227, 'national_votes': 1786, 'abroad_votes': 8}, 5: {'name': 'Votos nulos', 'total_votes': 30965, 'percent': 0.021179, 'national_votes': 30947, 'abroad_votes': 18}}\n",
      "{1: {'name': 'Jorge Álvarez Máynez', 'total_votes': 98760, 'percent': 0.14026, 'national_votes': 98726, 'abroad_votes': 34}, 2: {'name': 'Bertha Xóchitl Gálvez Ruíz', 'total_votes': 105282, 'percent': 0.149523, 'national_votes': 105095, 'abroad_votes': 187}, 3: {'name': 'Claudia Sheinbaum Pardo', 'total_votes': 484255, 'percent': 0.6877460000000001, 'national_votes': 483516, 'abroad_votes': 739}, 4: {'name': 'Candidaturas no registradas', 'total_votes': 954, 'percent': 0.001354, 'national_votes': 951, 'abroad_votes': 3}, 5: {'name': 'Votos nulos', 'total_votes': 14867, 'percent': 0.021114, 'national_votes': 14862, 'abroad_votes': 5}}\n",
      "{1: {'name': 'Jorge Álvarez Máynez', 'total_votes': 280767, 'percent': 0.08098100000000001, 'national_votes': 280614, 'abroad_votes': 153}, 2: {'name': 'Bertha Xóchitl Gálvez Ruíz', 'total_votes': 808513, 'percent': 0.23319700000000002, 'national_votes': 806385, 'abroad_votes': 2128}, 3: {'name': 'Claudia Sheinbaum Pardo', 'total_votes': 2294442, 'percent': 0.6617799999999999, 'national_votes': 2290229, 'abroad_votes': 4213}, 4: {'name': 'Candidaturas no registradas', 'total_votes': 4384, 'percent': 0.0012640000000000001, 'national_votes': 4359, 'abroad_votes': 25}, 5: {'name': 'Votos nulos', 'total_votes': 83384, 'percent': 0.02405, 'national_votes': 83345, 'abroad_votes': 39}}\n",
      "{1: {'name': 'Jorge Álvarez Máynez', 'total_votes': 80867, 'percent': 0.06962, 'national_votes': 80808, 'abroad_votes': 59}, 2: {'name': 'Bertha Xóchitl Gálvez Ruíz', 'total_votes': 363452, 'percent': 0.312906, 'national_votes': 362367, 'abroad_votes': 1085}, 3: {'name': 'Claudia Sheinbaum Pardo', 'total_votes': 693678, 'percent': 0.597206, 'national_votes': 693011, 'abroad_votes': 667}, 4: {'name': 'Candidaturas no registradas', 'total_votes': 1111, 'percent': 0.000956, 'national_votes': 1108, 'abroad_votes': 3}, 5: {'name': 'Votos nulos', 'total_votes': 22429, 'percent': 0.019309, 'national_votes': 22405, 'abroad_votes': 24}}\n",
      "{1: {'name': 'Jorge Álvarez Máynez', 'total_votes': 124211, 'percent': 0.169323, 'national_votes': 124127, 'abroad_votes': 84}, 2: {'name': 'Bertha Xóchitl Gálvez Ruíz', 'total_votes': 221704, 'percent': 0.302226, 'national_votes': 221029, 'abroad_votes': 675}, 3: {'name': 'Claudia Sheinbaum Pardo', 'total_votes': 367584, 'percent': 0.501089, 'national_votes': 365541, 'abroad_votes': 2043}, 4: {'name': 'Candidaturas no registradas', 'total_votes': 1405, 'percent': 0.001915, 'national_votes': 1382, 'abroad_votes': 23}, 5: {'name': 'Votos nulos', 'total_votes': 20019, 'percent': 0.027288999999999997, 'national_votes': 19998, 'abroad_votes': 21}}\n"
     ]
    }
   ],
   "source": [
    "create_folder_if_not_exists(f'states')\n",
    "for id_state in range(1,33):\n",
    "    create_json_file(get_info(chromium_path, service_path, XPATH, url.format(state=id_state)),f'states/state_{id_state}')"
   ]
  }
 ],
 "metadata": {
  "kernelspec": {
   "display_name": "venv",
   "language": "python",
   "name": "python3"
  },
  "language_info": {
   "codemirror_mode": {
    "name": "ipython",
    "version": 3
   },
   "file_extension": ".py",
   "mimetype": "text/x-python",
   "name": "python",
   "nbconvert_exporter": "python",
   "pygments_lexer": "ipython3",
   "version": "3.11.5"
  }
 },
 "nbformat": 4,
 "nbformat_minor": 2
}
