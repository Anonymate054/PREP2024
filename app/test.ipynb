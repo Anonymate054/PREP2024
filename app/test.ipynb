{
 "cells": [
  {
   "cell_type": "markdown",
   "metadata": {},
   "source": [
    "https://devhints.io/xpath\n",
    "https://selenium-python.readthedocs.io/api.html\n"
   ]
  },
  {
   "cell_type": "code",
   "execution_count": 12,
   "metadata": {},
   "outputs": [],
   "source": [
    "import scrapper_utils as scrapper_utils\n",
    "# Path to Chromium bin\n",
    "\n",
    "chromium_path =  \"drivers/chrome-linux64/chrome\"\n",
    "service_path = \"drivers/chromedriver-linux64/chromedriver\"\n",
    "\n",
    "url = \"https://prep2024.ine.mx/publicacion/nacional/presidencia/nacional/entidad/1/candidatura\"\n",
    "\n",
    "XPATH = {\n",
    "    'XPATH_NAME_01' : '/html/body/app-root/app-federal/div/div/div[3]/app-entidad/div/div[1]/div[2]/app-partido-politico/div[2]/div/div[1]/div[1]/div[1]/div[2]/span/strong',\n",
    "    'XPATH_VOTES_01' : '/html/body/app-root/app-federal/div/div/div[3]/app-entidad/div/div[1]/div[2]/app-partido-politico/div[2]/div/div[1]/div[1]/div[2]/div[1]/p[2]/strong',\n",
    "    'XPATH_PERC_01': '/html/body/app-root/app-federal/div/div/div[3]/app-entidad/div/div[1]/div[2]/app-partido-politico/div[2]/div/div[1]/div[1]/div[2]/div[2]/span/strong',\n",
    "\n",
    "    'XPATH_NAME_02' : '/html/body/app-root/app-federal/div/div/div[3]/app-entidad/div/div[1]/div[2]/app-partido-politico/div[2]/div/div[2]/div[1]/div[1]/div[2]/span/strong',\n",
    "    'XPATH_VOTES_02' : '/html/body/app-root/app-federal/div/div/div[3]/app-entidad/div/div[1]/div[2]/app-partido-politico/div[2]/div/div[2]/div[1]/div[2]/div[1]/p[2]/strong',\n",
    "    'XPATH_PERC_02': '/html/body/app-root/app-federal/div/div/div[3]/app-entidad/div/div[1]/div[2]/app-partido-politico/div[2]/div/div[2]/div[1]/div[2]/div[2]/span/strong',\n",
    "\n",
    "    'XPATH_NAME_03' : '/html/body/app-root/app-federal/div/div/div[3]/app-entidad/div/div[1]/div[2]/app-partido-politico/div[2]/div/div[3]/div[1]/div[1]/div[2]/span/strong',\n",
    "    'XPATH_VOTES_03' : '/html/body/app-root/app-federal/div/div/div[3]/app-entidad/div/div[1]/div[2]/app-partido-politico/div[2]/div/div[3]/div[1]/div[2]/div[1]/p[2]/strong',\n",
    "    'XPATH_PERC_03': '/html/body/app-root/app-federal/div/div/div[3]/app-entidad/div/div[1]/div[2]/app-partido-politico/div[2]/div/div[3]/div[1]/div[2]/div[2]/span/strong',\n",
    "\n",
    "    'XPATH_NAME' : '/html/body/app-root/app-federal/div/div/div[3]/app-entidad/div/div[1]/div[2]/app-partido-politico/div[2]/div/div[1]/div[1]/div[1]/div[2]/span/strong',\n",
    "    'XPATH_INFO' : '/html/body/app-root/app-federal/div/div/div[3]/app-entidad/div/div[1]/div[2]/app-partido-politico/div[2]/div/div[{candidate}]', # 1 a 5\n",
    "    'XPATH_PART' : '/html/body/app-root/app-federal/div/div/div[3]/app-entidad/div/app-porcentaje-participacion/div/div/div/div/div[2]/div[2]/p',\n",
    "    'XPATH_STATES' : '//select[@id=\"select-entidad\"]',\n",
    "    'XPATH_DISTRICT' : '//select[@id=\"select-distriro\"]'\n",
    "\n",
    "}"
   ]
  },
  {
   "cell_type": "code",
   "execution_count": 13,
   "metadata": {},
   "outputs": [
    {
     "name": "stdout",
     "output_type": "stream",
     "text": [
      "/html/body/app-root/app-federal/div/div/div[3]/app-entidad/div/div[1]/div[2]/app-partido-politico/div[2]/div/div[2]\n"
     ]
    }
   ],
   "source": [
    "print(XPATH['XPATH_INFO'].format(candidate = 2))"
   ]
  },
  {
   "cell_type": "code",
   "execution_count": 14,
   "metadata": {},
   "outputs": [],
   "source": [
    "# !ls -ls drivers/chrome-linux64/"
   ]
  },
  {
   "cell_type": "code",
   "execution_count": 15,
   "metadata": {},
   "outputs": [],
   "source": [
    "        # json_parsed['name_01'] = driver.find_element(By.XPATH,XPATH['XPATH_NAME_01']).get_attribute('innerHTML')\n",
    "        # json_parsed['votes_01'] = driver.find_element(By.XPATH,XPATH['XPATH_VOTES_01']).get_attribute('innerHTML')\n",
    "        # json_parsed['perc_01'] = driver.find_element(By.XPATH,XPATH['XPATH_PERC_01']).get_attribute('innerHTML')\n",
    "\n",
    "        # json_parsed['name_02'] = driver.find_element(By.XPATH,XPATH['XPATH_NAME_02']).get_attribute('innerHTML')\n",
    "        # json_parsed['votes_02'] = driver.find_element(By.XPATH,XPATH['XPATH_VOTES_02']).get_attribute('innerHTML')\n",
    "        # json_parsed['perc_02'] = driver.find_element(By.XPATH,XPATH['XPATH_PERC_02']).get_attribute('innerHTML')\n",
    "\n",
    "        # json_parsed['name_03'] = driver.find_element(By.XPATH,XPATH['XPATH_NAME_03']).get_attribute('innerHTML')\n",
    "        # json_parsed['votes_03'] = driver.find_element(By.XPATH,XPATH['XPATH_VOTES_03']).get_attribute('innerHTML')\n",
    "        # json_parsed['perc_03'] = driver.find_element(By.XPATH,XPATH['XPATH_PERC_03']).get_attribute('innerHTML')"
   ]
  },
  {
   "cell_type": "code",
   "execution_count": 16,
   "metadata": {},
   "outputs": [],
   "source": [
    "import time\n",
    "import os \n",
    "import json\n",
    "from selenium import webdriver\n",
    "from selenium.webdriver.chrome.service import Service\n",
    "from selenium.webdriver.chrome.options import Options\n",
    "from selenium.webdriver.common.by import By\n",
    "from selenium.webdriver.support.ui import WebDriverWait       \n",
    "from selenium.webdriver.support import expected_conditions as EC\n",
    "from selenium.webdriver import ActionChains\n",
    "import lxml.html as html\n",
    "from selenium.webdriver.support.ui import Select\n",
    "\n",
    "\n",
    "def get_info(chromium_path, service_path, XPATH, url):\n",
    "    s = Service(service_path)\n",
    "    chrome_options = Options()\n",
    "    chrome_options.binary_location = chromium_path\n",
    "\n",
    "\n",
    "    with webdriver.Chrome(service=s, options=chrome_options) as driver:\n",
    "        driver.get(url)\n",
    "        driver.maximize_window()\n",
    "        wait = WebDriverWait(driver, 10)\n",
    "\n",
    "        time.sleep(10)\n",
    "        json_parsed = {}\n",
    "\n",
    "        # dropdown = Select(driver.find_element(By.XPATH,XPATH['XPATH_STATES']))\n",
    "        # states = [option.text for option in dropdown.options]\n",
    "        # print('Cantidad de estados:', len(states)-1)\n",
    "        # print('Estados:', states)\n",
    "\n",
    "        # dropdown = Select(driver.find_element(By.XPATH,XPATH['XPATH_DISTRICT']))\n",
    "        # district = [option.text for option in dropdown.options]\n",
    "        # print('Cantidad de district:', len(states)-1)\n",
    "        # print('Estados:', district)\n",
    "\n",
    "        # info = driver.find_element(By.XPATH,XPATH['XPATH_INFO'].format(candidate = 2))\n",
    "        # print(info)\n",
    "        print(driver.find_element(By.XPATH,XPATH['XPATH_INFO'].format(candidate = 2)).get_attribute('innerText'))\n",
    "        print(driver.find_element(By.XPATH,XPATH['XPATH_INFO'].format(candidate = 2)).get_attribute('textContent'))\n",
    "        # print(driver.find_element(By.XPATH,XPATH['XPATH_STATES']).text)\n",
    "        # print(driver.find_element(By.XPATH,XPATH['XPATH_COUNT']).text)\n",
    "        \n",
    "        print(json_parsed)\n",
    "    time.sleep(5)\n",
    "    # driver.close() # Revisar\n",
    "    return json_parsed"
   ]
  },
  {
   "cell_type": "code",
   "execution_count": 17,
   "metadata": {},
   "outputs": [
    {
     "name": "stdout",
     "output_type": "stream",
     "text": [
      "Bertha Xóchitl Gálvez RuízTotal de votos294,218Porcentaje46.1466 %VotosEn Territorio Nacional293,070En el Extranjero1,148\n",
      "Bertha Xóchitl Gálvez RuízTotal de votos294,218Porcentaje46.1466 %VotosEn Territorio Nacional293,070En el Extranjero1,148\n",
      "{}\n"
     ]
    },
    {
     "data": {
      "text/plain": [
       "{}"
      ]
     },
     "execution_count": 17,
     "metadata": {},
     "output_type": "execute_result"
    }
   ],
   "source": [
    "get_info(chromium_path, service_path, XPATH, url)"
   ]
  }
 ],
 "metadata": {
  "kernelspec": {
   "display_name": "venv",
   "language": "python",
   "name": "python3"
  },
  "language_info": {
   "codemirror_mode": {
    "name": "ipython",
    "version": 3
   },
   "file_extension": ".py",
   "mimetype": "text/x-python",
   "name": "python",
   "nbconvert_exporter": "python",
   "pygments_lexer": "ipython3",
   "version": "3.11.5"
  }
 },
 "nbformat": 4,
 "nbformat_minor": 2
}
